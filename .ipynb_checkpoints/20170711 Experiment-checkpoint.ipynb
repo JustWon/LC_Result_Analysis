{
 "cells": [
  {
   "cell_type": "markdown",
   "metadata": {},
   "source": [
    "# Intro.\n",
    "\n",
    "New College 데이터셋에 대해서 실험\n"
   ]
  },
  {
   "cell_type": "code",
   "execution_count": 88,
   "metadata": {
    "collapsed": true
   },
   "outputs": [],
   "source": [
    "%matplotlib inline\n",
    "import matplotlib.pyplot as plt\n",
    "import numpy as np\n",
    "from itertools import cycle\n",
    "from glob import glob \n",
    "import configparser\n",
    "\n",
    "from sklearn import svm, datasets\n",
    "from sklearn.metrics import precision_recall_curve\n",
    "from sklearn.metrics import average_precision_score\n",
    "from sklearn.model_selection import train_test_split\n",
    "from sklearn.preprocessing import label_binarize\n",
    "from sklearn.multiclass import OneVsRestClassifier"
   ]
  },
  {
   "cell_type": "code",
   "execution_count": 27,
   "metadata": {},
   "outputs": [],
   "source": [
    "# new college 데이터\n",
    "real_corr_list = [[1, 187],\n",
    "[2, 188],\n",
    "[7, 195],\n",
    "[9, 197],\n",
    "[11, 199],\n",
    "[13, 201],\n",
    "[19, 205],\n",
    "[20, 206],\n",
    "[21, 207],\n",
    "[30, 214],\n",
    "[31, 215],\n",
    "[32, 216],\n",
    "[84, 272],\n",
    "[85, 273],\n",
    "[86, 274],\n",
    "[163, 353],\n",
    "[164, 354],\n",
    "[165, 355],\n",
    "[166, 356],\n",
    "[167, 357],\n",
    "[168, 358],\n",
    "[169, 359],\n",
    "[170, 360],\n",
    "[171, 361],\n",
    "[171, 363],\n",
    "[405, 561],\n",
    "[406, 562],\n",
    "[407, 563],\n",
    "[408, 564],\n",
    "[408, 962],\n",
    "[409, 565],\n",
    "[436, 592],\n",
    "[499, 897],\n",
    "[523, 917],\n",
    "[524, 918],\n",
    "[546, 942],\n",
    "[547, 943],\n",
    "[548, 944],\n",
    "[550, 946],\n",
    "[551, 947],\n",
    "[564, 962],\n",
    "[565, 963],\n",
    "[610, 1008],\n",
    "[611, 1009],\n",
    "[653, 1051],\n",
    "[654, 1052],\n",
    "[655, 1053],\n",
    "[662, 1058],\n",
    "[871, 1037],\n",
    "[871, 1039],\n",
    "[1179, 1603],\n",
    "[1180, 1604],\n",
    "[1181, 1605],\n",
    "[1182, 1606],\n",
    "[1221, 1647],\n",
    "[1222, 1648],\n",
    "[1295, 1717],\n",
    "[1296, 1720],\n",
    "[1297, 1721],\n",
    "[1298, 1722],\n",
    "[1299, 1725],\n",
    "[1301, 1731],\n",
    "[5, 193],\n",
    "[10, 198],\n",
    "[12, 200],\n",
    "[14, 202],\n",
    "[15, 203],\n",
    "[16, 204],\n",
    "[18, 204],\n",
    "[22, 208],\n",
    "[23, 207],\n",
    "[23, 209],\n",
    "[25, 211],\n",
    "[26, 212],\n",
    "[27, 213],\n",
    "[28, 214],\n",
    "[29, 215],\n",
    "[31, 217],\n",
    "[32, 214],\n",
    "[32, 218],\n",
    "[33, 217],\n",
    "[33, 219],\n",
    "[34, 218],\n",
    "[35, 219],\n",
    "[35, 221],\n",
    "[36, 220],\n",
    "[36, 222],\n",
    "[37, 223],\n",
    "[38, 222],\n",
    "[38, 224],\n",
    "[39, 225],\n",
    "[40, 226],\n",
    "[49, 237],\n",
    "[50, 238],\n",
    "[51, 239],\n",
    "[52, 240],\n",
    "[53, 241],\n",
    "[54, 242],\n",
    "[57, 245],\n",
    "[67, 253],\n",
    "[68, 254],\n",
    "[69, 255],\n",
    "[70, 256],\n",
    "[71, 257],\n",
    "[72, 258],\n",
    "[73, 259],\n",
    "[74, 260],\n",
    "[75, 261],\n",
    "[76, 262],\n",
    "[76, 264],\n",
    "[77, 261],\n",
    "[77, 263],\n",
    "[77, 265],\n",
    "[78, 264],\n",
    "[78, 266],\n",
    "[79, 265],\n",
    "[79, 267],\n",
    "[80, 266],\n",
    "[80, 268],\n",
    "[81, 269],\n",
    "[82, 268],\n",
    "[82, 270],\n",
    "[82, 272],\n",
    "[83, 273],\n",
    "[84, 274],\n",
    "[87, 275],\n",
    "[88, 276],\n",
    "[89, 277],\n",
    "[90, 278],\n",
    "[91, 279],\n",
    "[92, 280],\n",
    "[93, 281],\n",
    "[94, 282],\n",
    "[95, 283],\n",
    "[103, 293],\n",
    "[104, 294],\n",
    "[105, 295],\n",
    "[106, 296],\n",
    "[107, 297],\n",
    "[108, 298],\n",
    "[109, 299],\n",
    "[110, 300],\n",
    "[111, 301],\n",
    "[112, 302],\n",
    "[113, 303],\n",
    "[114, 304],\n",
    "[117, 307],\n",
    "[125, 313],\n",
    "[126, 314],\n",
    "[127, 315],\n",
    "[128, 316],\n",
    "[129, 317],\n",
    "[130, 318],\n",
    "[131, 319],\n",
    "[132, 320],\n",
    "[135, 323],\n",
    "[136, 324],\n",
    "[153, 343],\n",
    "[154, 344],\n",
    "[155, 345],\n",
    "[156, 346],\n",
    "[157, 347],\n",
    "[158, 348],\n",
    "[159, 349],\n",
    "[160, 350],\n",
    "[161, 351],\n",
    "[162, 352],\n",
    "[169, 361],\n",
    "[169, 363],\n",
    "[171, 359],\n",
    "[172, 360],\n",
    "[173, 361],\n",
    "[173, 363],\n",
    "[174, 362],\n",
    "[174, 364],\n",
    "[175, 363],\n",
    "[176, 364],\n",
    "[177, 365],\n",
    "[404, 560],\n",
    "[406, 960],\n",
    "[409, 963],\n",
    "[410, 566],\n",
    "[410, 964],\n",
    "[411, 567],\n",
    "[411, 963],\n",
    "[412, 566],\n",
    "[412, 568],\n",
    "[412, 964],\n",
    "[413, 569],\n",
    "[413, 965],\n",
    "[414, 568],\n",
    "[414, 966],\n",
    "[415, 569],\n",
    "[416, 570],\n",
    "[430, 586],\n",
    "[432, 588],\n",
    "[432, 590],\n",
    "[433, 589],\n",
    "[434, 590],\n",
    "[438, 594],\n",
    "[439, 595],\n",
    "[439, 993],\n",
    "[441, 595],\n",
    "[441, 993],\n",
    "[442, 994],\n",
    "[443, 995],\n",
    "[444, 994],\n",
    "[445, 995],\n",
    "[518, 908],\n",
    "[518, 910],\n",
    "[520, 910],\n",
    "[520, 912],\n",
    "[522, 916],\n",
    "[524, 916],\n",
    "[544, 940],\n",
    "[545, 941],\n",
    "[549, 945],\n",
    "[551, 949],\n",
    "[552, 948],\n",
    "[552, 950],\n",
    "[553, 949],\n",
    "[553, 951],\n",
    "[554, 950],\n",
    "[554, 952],\n",
    "[559, 957],\n",
    "[560, 958],\n",
    "[561, 959],\n",
    "[561, 961],\n",
    "[562, 960],\n",
    "[566, 964],\n",
    "[571, 969],\n",
    "[572, 970],\n",
    "[573, 971],\n",
    "[574, 972],\n",
    "[603, 1001],\n",
    "[604, 1002],\n",
    "[605, 1003],\n",
    "[606, 1004],\n",
    "[607, 1005],\n",
    "[608, 1006],\n",
    "[609, 1007],\n",
    "[612, 1010],\n",
    "[613, 1011],\n",
    "[614, 1012],\n",
    "[651, 1049],\n",
    "[651, 1051],\n",
    "[652, 1050],\n",
    "[652, 1052],\n",
    "[653, 1053],\n",
    "[654, 1050],\n",
    "[654, 1054],\n",
    "[655, 1051],\n",
    "[656, 1054],\n",
    "[870, 1038],\n",
    "[870, 1040],\n",
    "[871, 1041],\n",
    "[1177, 1601],\n",
    "[1178, 1602],\n",
    "[1183, 1607],\n",
    "[1184, 1608],\n",
    "[1185, 1607],\n",
    "[1185, 1609],\n",
    "[1186, 1610],\n",
    "[1187, 1609],\n",
    "[1187, 1611],\n",
    "[1188, 1610],\n",
    "[1188, 1612],\n",
    "[1189, 1611],\n",
    "[1189, 1613],\n",
    "[1190, 1612],\n",
    "[1190, 1614],\n",
    "[1191, 1613],\n",
    "[1191, 1615],\n",
    "[1192, 1614],\n",
    "[1192, 1616],\n",
    "[1193, 1615],\n",
    "[1193, 1617],\n",
    "[1194, 1616],\n",
    "[1209, 1633],\n",
    "[1210, 1634],\n",
    "[1211, 1635],\n",
    "[1218, 1644],\n",
    "[1219, 1645],\n",
    "[1220, 1646],\n",
    "[1223, 1649],\n",
    "[1224, 1650],\n",
    "[1225, 1651],\n",
    "[1269, 1689],\n",
    "[1271, 1691],\n",
    "[1281, 1699],\n",
    "[1281, 1701],\n",
    "[1282, 1700],\n",
    "[1282, 1702],\n",
    "[1283, 1703],\n",
    "[1284, 1704],\n",
    "[1286, 1706],\n",
    "[1288, 1708],\n",
    "[1290, 1710],\n",
    "[1290, 1712],\n",
    "[1292, 1712],\n",
    "[1292, 1714],\n",
    "[1293, 1717],\n",
    "[1294, 1714],\n",
    "[1294, 1718],\n",
    "[1295, 1719],\n",
    "[1296, 1718],\n",
    "[1296, 1722],\n",
    "[1297, 1719],\n",
    "[1297, 1723],\n",
    "[1298, 1720],\n",
    "[1298, 1724],\n",
    "[1299, 1723],\n",
    "[1299, 1727],\n",
    "[1300, 1726],\n",
    "[1301, 1729]]"
   ]
  },
  {
   "cell_type": "markdown",
   "metadata": {},
   "source": [
    "# Manual GT image set organization"
   ]
  },
  {
   "cell_type": "code",
   "execution_count": 43,
   "metadata": {
    "collapsed": true
   },
   "outputs": [],
   "source": [
    "import shutil\n",
    "Manual_LC_dataset = np.unique(np.array(real_corr_list).flatten())\n",
    "for idx in Manual_LC_dataset:\n",
    "    src = \"/media/dongwonshin/Ubuntu Data/Datasets/FAB-MAP/Image Data/New College/images/%04d.jpg\" % idx\n",
    "    dst = \"/media/dongwonshin/Ubuntu Data/Datasets/FAB-MAP/Image Data/New College ManualLC/images/\"\n",
    "    shutil.copy(src,dst)"
   ]
  },
  {
   "cell_type": "code",
   "execution_count": 79,
   "metadata": {},
   "outputs": [
    {
     "data": {
      "image/png": "[encoded data removed]",
      "text/plain": [
       "<matplotlib.figure.Figure at 0x7ff1787310f0>"
      ]
     },
     "metadata": {},
     "output_type": "display_data"
    }
   ],
   "source": [
    "image_idx_order = np.unique(real_corr_list)\n",
    "\n",
    "GT_corr_mat = np.zeros((len(image_idx_order),len(image_idx_order)))\n",
    "\n",
    "for a, i in enumerate(image_idx_order):\n",
    "    for b, j in enumerate(image_idx_order):\n",
    "        if i==j:\n",
    "            GT_corr_mat[a,b] = 1\n",
    "        if [i,j] in real_corr_list:\n",
    "            GT_corr_mat[a,b] = 1\n",
    "\n",
    "\n",
    "plt.figure(figsize=(10,10))\n",
    "plt.imshow(GT_corr_mat, cmap = 'hot')\n",
    "plt.show()"
   ]
  },
  {
   "cell_type": "code",
   "execution_count": 102,
   "metadata": {
    "collapsed": true
   },
   "outputs": [],
   "source": [
    "def PrecisionRecalCurve(GT_corr_mat, esti_corr_mat):\n",
    "\n",
    "    precision, recall, _ = precision_recall_curve(GT_corr_mat.flatten(), esti_corr_mat.flatten())\n",
    "    average_precision = average_precision_score(GT_corr_mat.flatten(), esti_corr_mat.flatten())\n",
    "\n",
    "    # Plot Precision-Recall curve\n",
    "    plt.clf()\n",
    "    plt.plot(recall, precision, lw=2, color='navy', label='Precision-Recall curve')\n",
    "    plt.xlabel('Recall')\n",
    "    plt.ylabel('Precision')\n",
    "    plt.ylim([0.0, 1.05])\n",
    "    plt.xlim([0.0, 1.0])\n",
    "    plt.title('Precision-Recall example: AUC={0:0.2f}'.format(average_precision))\n",
    "    plt.legend(loc=\"lower left\")\n",
    "    plt.show()\n",
    "    \n",
    "    \n",
    "def theLatestResult(path_pattern):\n",
    "    result_dirs = sorted(glob(path_pattern))\n",
    "    the_latest_result_path = result_dirs[-1]\n",
    "    print(the_latest_result_path)\n",
    "    corr_mat_path = the_latest_result_path + '/corr_matrix.txt'\n",
    "    param_cfg_path = the_latest_result_path + '/parameters.cfg'\n",
    "    \n",
    "    config = configparser.ConfigParser()\n",
    "    config.read(param_cfg_path)\n",
    "    print(dict(config.items('General')))\n",
    "    \n",
    "    \n",
    "    return corr_mat_path, param_cfg_path\n",
    "\n",
    "def theSpecificResult(path):\n",
    "    corr_mat_path = path + '/corr_matrix.txt'\n",
    "    param_cfg_path = path + '/parameters.cfg'\n",
    "    \n",
    "    config = configparser.ConfigParser()\n",
    "    config.read(param_cfg_path)\n",
    "    print(dict(config.items('General')))\n",
    "\n",
    "    \n",
    "    return corr_mat_path, param_cfg_path"
   ]
  },
  {
   "cell_type": "markdown",
   "metadata": {},
   "source": [
    "# Proposed method"
   ]
  },
  {
   "cell_type": "code",
   "execution_count": 97,
   "metadata": {},
   "outputs": [
    {
     "name": "stdout",
     "output_type": "stream",
     "text": [
      "{'dataset': 'New College', 'method': 'proposed_method', 'scoring type': 'L1_NORM'}\n"
     ]
    },
    {
     "data": {
      "image/png": "[encoded data removed]",
      "text/plain": [
       "<matplotlib.figure.Figure at 0x7ff175b7b8d0>"
      ]
     },
     "metadata": {},
     "output_type": "display_data"
    }
   ],
   "source": [
    "corr_mat, param_cfg = theSpecificResult('/home/dongwonshin/Desktop/DBoW2/build/result/2017-7-11-22-11-10')\n",
    "esti_corr_mat = np.loadtxt(corr_mat)\n",
    "PrecisionRecalCurve(GT_corr_mat, esti_corr_mat)"
   ]
  },
  {
   "cell_type": "markdown",
   "metadata": {},
   "source": [
    "# SURF"
   ]
  },
  {
   "cell_type": "code",
   "execution_count": 98,
   "metadata": {
    "scrolled": true
   },
   "outputs": [
    {
     "name": "stdout",
     "output_type": "stream",
     "text": [
      "{'dataset': 'New College', 'method': 'SURF', 'surf params': '{10000,4,2}', 'scoring type': 'L1_NORM'}\n"
     ]
    },
    {
     "data": {
      "image/png": "[encoded data removed]",
      "text/plain": [
       "<matplotlib.figure.Figure at 0x7ff178889780>"
      ]
     },
     "metadata": {},
     "output_type": "display_data"
    }
   ],
   "source": [
    "corr_mat, param_cfg = theSpecificResult('/home/dongwonshin/Desktop/DBoW2/build/result/2017-7-11-22-28-6')\n",
    "esti_corr_mat = np.loadtxt(corr_mat)\n",
    "PrecisionRecalCurve(GT_corr_mat, esti_corr_mat)"
   ]
  },
  {
   "cell_type": "code",
   "execution_count": 101,
   "metadata": {},
   "outputs": [
    {
     "name": "stdout",
     "output_type": "stream",
     "text": [
      "/home/dongwonshin/Desktop/DBoW2/build/result/2017-7-11-22-31-52\n",
      "{'dataset': 'New College', 'method': 'SURF', 'surf params': '{300,4,2}', 'scoring type': 'L1_NORM'}\n"
     ]
    },
    {
     "data": {
      "image/png": "[encoded data removed]",
      "text/plain": [
       "<matplotlib.figure.Figure at 0x7ff17604c588>"
      ]
     },
     "metadata": {},
     "output_type": "display_data"
    }
   ],
   "source": [
    "corr_mat, param_cfg = theLatestResult()\n",
    "esti_corr_mat = np.loadtxt(corr_mat)\n",
    "PrecisionRecalCurve(GT_corr_mat, esti_corr_mat)"
   ]
  },
  {
   "cell_type": "markdown",
   "metadata": {},
   "source": [
    "# ORB"
   ]
  },
  {
   "cell_type": "code",
   "execution_count": 105,
   "metadata": {},
   "outputs": [
    {
     "name": "stdout",
     "output_type": "stream",
     "text": [
      "/home/dongwonshin/Desktop/DBow3/build/result/2017-7-11-23-3-39\n",
      "{'dataset': 'New College', 'method': 'orb', 'scoring type': 'L1_NORM'}\n"
     ]
    },
    {
     "data": {
      "image/png": "[encoded data removed]",
      "text/plain": [
       "<matplotlib.figure.Figure at 0x7ff1764898d0>"
      ]
     },
     "metadata": {},
     "output_type": "display_data"
    }
   ],
   "source": [
    "corr_mat, param_cfg = theLatestResult(path_pattern='/home/dongwonshin/Desktop/DBow3/build/result/*')\n",
    "esti_corr_mat = np.loadtxt(corr_mat)\n",
    "PrecisionRecalCurve(GT_corr_mat, esti_corr_mat)"
   ]
  },
  {
   "cell_type": "markdown",
   "metadata": {},
   "source": [
    "# BRISK"
   ]
  },
  {
   "cell_type": "code",
   "execution_count": null,
   "metadata": {
    "collapsed": true
   },
   "outputs": [],
   "source": [
    "corr_mat, param_cfg = theLatestResult(path_pattern='/home/dongwonshin/Desktop/DBow3/build/result/*')\n",
    "esti_corr_mat = np.loadtxt(corr_mat)\n",
    "PrecisionRecalCurve(GT_corr_mat, esti_corr_mat)"
   ]
  }
 ],
 "metadata": {
  "kernelspec": {
   "display_name": "Python 3",
   "language": "python",
   "name": "python3"
  },
  "language_info": {
   "codemirror_mode": {
    "name": "ipython",
    "version": 3
   },
   "file_extension": ".py",
   "mimetype": "text/x-python",
   "name": "python",
   "nbconvert_exporter": "python",
   "pygments_lexer": "ipython3",
   "version": "3.4.3"
  }
 },
 "nbformat": 4,
 "nbformat_minor": 2
}
